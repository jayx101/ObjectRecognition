{
 "cells": [
  {
   "cell_type": "code",
   "execution_count": 22,
   "metadata": {
    "collapsed": false
   },
   "outputs": [],
   "source": [
    "from lib import classification as c\n",
    "import joblib\n",
    "\n",
    "import numpy as np\n",
    "import pandas as pd\n",
    "\n",
    "from sklearn.svm import LinearSVC\n",
    "from sklearn import cross_validation                                        \n",
    "from sklearn import svm   \n",
    "from sklearn import metrics\n",
    "from sklearn import ensemble\n",
    "from sklearn import cross_validation                                           \n",
    "from sklearn import svm          \n",
    "%matplotlib inline\n",
    "import matplotlib.pyplot as plt"
   ]
  },
  {
   "cell_type": "code",
   "execution_count": 2,
   "metadata": {
    "collapsed": false
   },
   "outputs": [
    {
     "name": "stdout",
     "output_type": "stream",
     "text": [
      "started extracting feautes\n",
      "done extracting features\n"
     ]
    }
   ],
   "source": [
    "train_data = c.getTrainData(True) #Pass True to this function to re-train!"
   ]
  },
  {
   "cell_type": "code",
   "execution_count": 3,
   "metadata": {
    "collapsed": false
   },
   "outputs": [
    {
     "name": "stdout",
     "output_type": "stream",
     "text": [
      "Counter({0: 109, 4: 105, 2: 101, 1: 100, 3: 96})\n"
     ]
    }
   ],
   "source": [
    "X_train, X_test, y_train, y_test = cross_validation.train_test_split(\n",
    "    train_data[0], train_data[1], test_size=0.2, random_state=0)\n",
    "\n",
    "weights = c.getClassWeights()"
   ]
  },
  {
   "cell_type": "markdown",
   "metadata": {},
   "source": [
    "## Linear SVM"
   ]
  },
  {
   "cell_type": "code",
   "execution_count": 4,
   "metadata": {
    "collapsed": false
   },
   "outputs": [
    {
     "name": "stdout",
     "output_type": "stream",
     "text": [
      "             precision    recall  f1-score   support\n",
      "\n",
      "          0       1.00      1.00      1.00        22\n",
      "          1       1.00      1.00      1.00        14\n",
      "          2       1.00      1.00      1.00        25\n",
      "          3       1.00      1.00      1.00        18\n",
      "          4       1.00      1.00      1.00        24\n",
      "\n",
      "avg / total       1.00      1.00      1.00       103\n",
      "\n",
      "5 Fold CrossValidation Score \n",
      "\n",
      "[ 0.99038462  0.98039216  0.98039216  0.99019608  0.99009901]\n",
      "Mean 0.986292803488\n"
     ]
    }
   ],
   "source": [
    "clf = LinearSVC(class_weight=weights)\n",
    "clf.fit(X_train, y_train)\n",
    "\n",
    "#Perform classification on train test split\n",
    "y_pred = clf.predict(X_test)\n",
    "print metrics.classification_report(y_test, y_pred)\n",
    "\n",
    "#Perform 5 fold crossval                                            \n",
    "scores = cross_validation.cross_val_score(clf, train_data[0], train_data[1], cv=5)  \n",
    "print '5 Fold CrossValidation Score \\n'\n",
    "print scores\n",
    "print 'Mean', scores.mean()"
   ]
  },
  {
   "cell_type": "code",
   "execution_count": 5,
   "metadata": {
    "collapsed": false
   },
   "outputs": [],
   "source": [
    "#With Final Test Data\n",
    "#clf = LinearSVC()\n",
    "#clf.fit(X_train, y_train)\n",
    "#report, df = c.predict(clf,True)\n",
    "#print report"
   ]
  },
  {
   "cell_type": "markdown",
   "metadata": {},
   "source": [
    "## Logistic"
   ]
  },
  {
   "cell_type": "code",
   "execution_count": 6,
   "metadata": {
    "collapsed": false
   },
   "outputs": [],
   "source": [
    "from sklearn import linear_model\n",
    "\n",
    "clf = linear_model.LogisticRegression(class_weight=weights)"
   ]
  },
  {
   "cell_type": "code",
   "execution_count": 7,
   "metadata": {
    "collapsed": false
   },
   "outputs": [
    {
     "name": "stdout",
     "output_type": "stream",
     "text": [
      "             precision    recall  f1-score   support\n",
      "\n",
      "          0       0.96      1.00      0.98        22\n",
      "          1       0.93      1.00      0.97        14\n",
      "          2       1.00      0.96      0.98        25\n",
      "          3       1.00      0.94      0.97        18\n",
      "          4       1.00      1.00      1.00        24\n",
      "\n",
      "avg / total       0.98      0.98      0.98       103\n",
      "\n",
      "5 Fold CrossValidation Score \n",
      "\n",
      "[ 0.99038462  0.97058824  0.98039216  0.98039216  0.99009901]\n",
      "Mean 0.982371234861\n"
     ]
    }
   ],
   "source": [
    "clf.fit(X_train, y_train)\n",
    "#Perform classification on train test split\n",
    "y_pred = clf.predict(X_test)\n",
    "print metrics.classification_report(y_test, y_pred)\n",
    "\n",
    "#Perform 5 fold crossval                                       \n",
    "scores = cross_validation.cross_val_score(clf, train_data[0], train_data[1], cv=5)  \n",
    "print '5 Fold CrossValidation Score \\n'\n",
    "print scores\n",
    "print 'Mean', scores.mean()"
   ]
  },
  {
   "cell_type": "markdown",
   "metadata": {},
   "source": [
    "### Random Forest"
   ]
  },
  {
   "cell_type": "code",
   "execution_count": 8,
   "metadata": {
    "collapsed": false
   },
   "outputs": [],
   "source": [
    "# Estimate the score on the entire dataset, with no missing valules\n",
    "clf = ensemble.RandomForestClassifier(random_state=0, n_estimators=100)"
   ]
  },
  {
   "cell_type": "code",
   "execution_count": 9,
   "metadata": {
    "collapsed": true
   },
   "outputs": [],
   "source": [
    "clf.fit(X_train, y_train)\n",
    "\n",
    "#Perform classification on train test split\n",
    "y_pred = clf.predict(X_test)"
   ]
  },
  {
   "cell_type": "code",
   "execution_count": 10,
   "metadata": {
    "collapsed": false
   },
   "outputs": [
    {
     "name": "stdout",
     "output_type": "stream",
     "text": [
      "             precision    recall  f1-score   support\n",
      "\n",
      "          0       0.96      1.00      0.98        22\n",
      "          1       1.00      1.00      1.00        14\n",
      "          2       1.00      1.00      1.00        25\n",
      "          3       1.00      0.94      0.97        18\n",
      "          4       1.00      1.00      1.00        24\n",
      "\n",
      "avg / total       0.99      0.99      0.99       103\n",
      "\n",
      "5 Fold CrossValidation Score \n",
      "\n",
      "[ 0.98076923  0.99019608  0.98039216  0.98039216  0.99009901]\n",
      "Mean 0.984369726565\n"
     ]
    }
   ],
   "source": [
    "#Perform classification on train test split\n",
    "y_pred = clf.predict(X_test)\n",
    "print metrics.classification_report(y_test, y_pred)\n",
    "#Perform 5 fold crossval\n",
    "scores = cross_validation.cross_val_score(clf, train_data[0], train_data[1], cv=5)  \n",
    "print '5 Fold CrossValidation Score \\n'\n",
    "print scores\n",
    "print 'Mean', scores.mean()"
   ]
  },
  {
   "cell_type": "code",
   "execution_count": 19,
   "metadata": {
    "collapsed": false
   },
   "outputs": [],
   "source": [
    "X = np.array(X_train)"
   ]
  },
  {
   "cell_type": "code",
   "execution_count": 20,
   "metadata": {
    "collapsed": false
   },
   "outputs": [
    {
     "data": {
      "text/plain": [
       "(408, 400)"
      ]
     },
     "execution_count": 20,
     "metadata": {},
     "output_type": "execute_result"
    }
   ],
   "source": [
    "X.shape"
   ]
  },
  {
   "cell_type": "code",
   "execution_count": 23,
   "metadata": {
    "collapsed": false
   },
   "outputs": [
    {
     "name": "stdout",
     "output_type": "stream",
     "text": [
      "Feature ranking:\n",
      "1. feature 102 (0.034869)\n",
      "2. feature 117 (0.029382)\n",
      "3. feature 122 (0.026526)\n",
      "4. feature 338 (0.020515)\n",
      "5. feature 333 (0.016231)\n",
      "6. feature 186 (0.016184)\n",
      "7. feature 118 (0.015984)\n",
      "8. feature 12 (0.015560)\n",
      "9. feature 390 (0.014969)\n",
      "10. feature 359 (0.014702)\n",
      "11. feature 226 (0.014306)\n",
      "12. feature 15 (0.014123)\n",
      "13. feature 20 (0.013962)\n",
      "14. feature 27 (0.013465)\n",
      "15. feature 254 (0.012870)\n",
      "16. feature 73 (0.012424)\n",
      "17. feature 284 (0.012086)\n",
      "18. feature 217 (0.012042)\n",
      "19. feature 157 (0.011860)\n",
      "20. feature 43 (0.011721)\n",
      "21. feature 231 (0.011080)\n",
      "22. feature 399 (0.010991)\n",
      "23. feature 108 (0.010849)\n",
      "24. feature 334 (0.010635)\n",
      "25. feature 198 (0.010342)\n",
      "26. feature 98 (0.009999)\n",
      "27. feature 190 (0.008743)\n",
      "28. feature 245 (0.008712)\n",
      "29. feature 214 (0.008585)\n",
      "30. feature 128 (0.008406)\n",
      "31. feature 268 (0.008219)\n",
      "32. feature 33 (0.008215)\n",
      "33. feature 182 (0.007769)\n",
      "34. feature 75 (0.007524)\n",
      "35. feature 110 (0.007412)\n",
      "36. feature 40 (0.007104)\n",
      "37. feature 240 (0.007013)\n",
      "38. feature 170 (0.006589)\n",
      "39. feature 123 (0.006266)\n",
      "40. feature 71 (0.006198)\n",
      "41. feature 311 (0.005901)\n",
      "42. feature 159 (0.005816)\n",
      "43. feature 246 (0.005614)\n",
      "44. feature 371 (0.005485)\n",
      "45. feature 203 (0.005343)\n",
      "46. feature 219 (0.005309)\n",
      "47. feature 274 (0.005172)\n",
      "48. feature 55 (0.005115)\n",
      "49. feature 4 (0.005073)\n",
      "50. feature 253 (0.005017)\n",
      "51. feature 174 (0.004986)\n",
      "52. feature 23 (0.004964)\n",
      "53. feature 96 (0.004438)\n",
      "54. feature 171 (0.004430)\n",
      "55. feature 234 (0.004401)\n",
      "56. feature 289 (0.004234)\n",
      "57. feature 270 (0.004152)\n",
      "58. feature 379 (0.004081)\n",
      "59. feature 107 (0.003955)\n",
      "60. feature 342 (0.003826)\n",
      "61. feature 357 (0.003736)\n",
      "62. feature 59 (0.003697)\n",
      "63. feature 340 (0.003688)\n",
      "64. feature 42 (0.003364)\n",
      "65. feature 349 (0.003314)\n",
      "66. feature 25 (0.003286)\n",
      "67. feature 74 (0.003219)\n",
      "68. feature 363 (0.003096)\n",
      "69. feature 124 (0.003024)\n",
      "70. feature 335 (0.003002)\n",
      "71. feature 147 (0.002925)\n",
      "72. feature 60 (0.002918)\n",
      "73. feature 201 (0.002917)\n",
      "74. feature 44 (0.002875)\n",
      "75. feature 388 (0.002867)\n",
      "76. feature 339 (0.002860)\n",
      "77. feature 328 (0.002846)\n",
      "78. feature 386 (0.002794)\n",
      "79. feature 303 (0.002790)\n",
      "80. feature 330 (0.002771)\n",
      "81. feature 389 (0.002713)\n",
      "82. feature 323 (0.002689)\n",
      "83. feature 29 (0.002663)\n",
      "84. feature 115 (0.002655)\n",
      "85. feature 258 (0.002643)\n",
      "86. feature 196 (0.002547)\n",
      "87. feature 162 (0.002529)\n",
      "88. feature 148 (0.002514)\n",
      "89. feature 360 (0.002476)\n",
      "90. feature 271 (0.002463)\n",
      "91. feature 192 (0.002459)\n",
      "92. feature 172 (0.002454)\n",
      "93. feature 294 (0.002425)\n",
      "94. feature 84 (0.002424)\n",
      "95. feature 266 (0.002404)\n",
      "96. feature 6 (0.002394)\n",
      "97. feature 161 (0.002389)\n",
      "98. feature 257 (0.002372)\n",
      "99. feature 398 (0.002342)\n",
      "100. feature 384 (0.002326)\n",
      "101. feature 397 (0.002307)\n",
      "102. feature 358 (0.002278)\n",
      "103. feature 62 (0.002274)\n",
      "104. feature 230 (0.002264)\n",
      "105. feature 111 (0.002261)\n",
      "106. feature 308 (0.002254)\n",
      "107. feature 310 (0.002233)\n",
      "108. feature 375 (0.002217)\n",
      "109. feature 288 (0.002167)\n",
      "110. feature 142 (0.002159)\n",
      "111. feature 326 (0.002142)\n",
      "112. feature 160 (0.002141)\n",
      "113. feature 168 (0.002141)\n",
      "114. feature 185 (0.002116)\n",
      "115. feature 221 (0.002093)\n",
      "116. feature 394 (0.001998)\n",
      "117. feature 116 (0.001950)\n",
      "118. feature 298 (0.001944)\n",
      "119. feature 64 (0.001935)\n",
      "120. feature 18 (0.001913)\n",
      "121. feature 341 (0.001891)\n",
      "122. feature 324 (0.001889)\n",
      "123. feature 14 (0.001873)\n",
      "124. feature 391 (0.001871)\n",
      "125. feature 207 (0.001856)\n",
      "126. feature 46 (0.001837)\n",
      "127. feature 215 (0.001830)\n",
      "128. feature 213 (0.001826)\n",
      "129. feature 291 (0.001781)\n",
      "130. feature 11 (0.001762)\n",
      "131. feature 279 (0.001761)\n",
      "132. feature 200 (0.001757)\n",
      "133. feature 299 (0.001726)\n",
      "134. feature 61 (0.001719)\n",
      "135. feature 327 (0.001689)\n",
      "136. feature 103 (0.001685)\n",
      "137. feature 225 (0.001678)\n",
      "138. feature 10 (0.001648)\n",
      "139. feature 222 (0.001634)\n",
      "140. feature 387 (0.001630)\n",
      "141. feature 368 (0.001619)\n",
      "142. feature 232 (0.001614)\n",
      "143. feature 197 (0.001604)\n",
      "144. feature 255 (0.001599)\n",
      "145. feature 130 (0.001589)\n",
      "146. feature 141 (0.001575)\n",
      "147. feature 373 (0.001573)\n",
      "148. feature 179 (0.001564)\n",
      "149. feature 361 (0.001558)\n",
      "150. feature 247 (0.001548)\n",
      "151. feature 300 (0.001542)\n",
      "152. feature 241 (0.001536)\n",
      "153. feature 109 (0.001536)\n",
      "154. feature 183 (0.001514)\n",
      "155. feature 138 (0.001499)\n",
      "156. feature 343 (0.001499)\n",
      "157. feature 175 (0.001492)\n",
      "158. feature 9 (0.001480)\n",
      "159. feature 137 (0.001468)\n",
      "160. feature 370 (0.001458)\n",
      "161. feature 177 (0.001445)\n",
      "162. feature 276 (0.001433)\n",
      "163. feature 273 (0.001416)\n",
      "164. feature 94 (0.001394)\n",
      "165. feature 129 (0.001387)\n",
      "166. feature 382 (0.001386)\n",
      "167. feature 220 (0.001384)\n",
      "168. feature 250 (0.001381)\n",
      "169. feature 345 (0.001344)\n",
      "170. feature 195 (0.001343)\n",
      "171. feature 305 (0.001343)\n",
      "172. feature 290 (0.001342)\n",
      "173. feature 261 (0.001333)\n",
      "174. feature 364 (0.001324)\n",
      "175. feature 100 (0.001306)\n",
      "176. feature 151 (0.001292)\n",
      "177. feature 355 (0.001282)\n",
      "178. feature 131 (0.001281)\n",
      "179. feature 346 (0.001271)\n",
      "180. feature 321 (0.001269)\n",
      "181. feature 86 (0.001265)\n",
      "182. feature 181 (0.001257)\n",
      "183. feature 244 (0.001227)\n",
      "184. feature 158 (0.001223)\n",
      "185. feature 229 (0.001212)\n",
      "186. feature 19 (0.001210)\n",
      "187. feature 287 (0.001209)\n",
      "188. feature 83 (0.001204)\n",
      "189. feature 2 (0.001196)\n",
      "190. feature 90 (0.001188)\n",
      "191. feature 36 (0.001157)\n",
      "192. feature 395 (0.001156)\n",
      "193. feature 304 (0.001155)\n",
      "194. feature 385 (0.001143)\n",
      "195. feature 78 (0.001135)\n",
      "196. feature 49 (0.001132)\n",
      "197. feature 34 (0.001126)\n",
      "198. feature 80 (0.001123)\n",
      "199. feature 188 (0.001123)\n",
      "200. feature 272 (0.001119)\n",
      "201. feature 145 (0.001114)\n",
      "202. feature 139 (0.001110)\n",
      "203. feature 194 (0.001109)\n",
      "204. feature 256 (0.001104)\n",
      "205. feature 82 (0.001094)\n",
      "206. feature 41 (0.001090)\n",
      "207. feature 57 (0.001085)\n",
      "208. feature 202 (0.001071)\n",
      "209. feature 113 (0.001067)\n",
      "210. feature 114 (0.001058)\n",
      "211. feature 239 (0.001053)\n",
      "212. feature 135 (0.001052)\n",
      "213. feature 119 (0.001050)\n",
      "214. feature 99 (0.001043)\n",
      "215. feature 126 (0.001042)\n",
      "216. feature 8 (0.001036)\n",
      "217. feature 178 (0.001036)\n",
      "218. feature 278 (0.001015)\n",
      "219. feature 209 (0.001013)\n",
      "220. feature 154 (0.001012)\n",
      "221. feature 144 (0.001010)\n",
      "222. feature 352 (0.001001)\n",
      "223. feature 376 (0.000999)\n",
      "224. feature 21 (0.000998)\n",
      "225. feature 331 (0.000995)\n",
      "226. feature 166 (0.000994)\n",
      "227. feature 369 (0.000989)\n",
      "228. feature 7 (0.000988)\n",
      "229. feature 312 (0.000985)\n",
      "230. feature 344 (0.000982)\n",
      "231. feature 325 (0.000981)\n",
      "232. feature 68 (0.000976)\n",
      "233. feature 347 (0.000968)\n",
      "234. feature 269 (0.000960)\n",
      "235. feature 69 (0.000958)\n",
      "236. feature 189 (0.000957)\n",
      "237. feature 292 (0.000943)\n",
      "238. feature 164 (0.000932)\n",
      "239. feature 319 (0.000931)\n",
      "240. feature 28 (0.000930)\n",
      "241. feature 37 (0.000920)\n",
      "242. feature 132 (0.000913)\n",
      "243. feature 92 (0.000912)\n",
      "244. feature 249 (0.000907)\n",
      "245. feature 378 (0.000902)\n",
      "246. feature 22 (0.000897)\n",
      "247. feature 307 (0.000896)\n",
      "248. feature 26 (0.000892)\n",
      "249. feature 396 (0.000886)\n",
      "250. feature 112 (0.000874)\n",
      "251. feature 47 (0.000873)\n",
      "252. feature 134 (0.000870)\n",
      "253. feature 89 (0.000870)\n",
      "254. feature 210 (0.000865)\n",
      "255. feature 322 (0.000865)\n",
      "256. feature 238 (0.000860)\n",
      "257. feature 155 (0.000854)\n",
      "258. feature 35 (0.000852)\n",
      "259. feature 38 (0.000846)\n",
      "260. feature 262 (0.000844)\n",
      "261. feature 354 (0.000820)\n",
      "262. feature 146 (0.000815)\n",
      "263. feature 32 (0.000803)\n",
      "264. feature 218 (0.000803)\n",
      "265. feature 393 (0.000802)\n",
      "266. feature 140 (0.000802)\n",
      "267. feature 267 (0.000787)\n",
      "268. feature 133 (0.000785)\n",
      "269. feature 150 (0.000783)\n",
      "270. feature 199 (0.000766)\n",
      "271. feature 383 (0.000766)\n",
      "272. feature 187 (0.000759)\n",
      "273. feature 95 (0.000748)\n",
      "274. feature 264 (0.000744)\n",
      "275. feature 184 (0.000741)\n",
      "276. feature 318 (0.000734)\n",
      "277. feature 176 (0.000730)\n",
      "278. feature 101 (0.000725)\n",
      "279. feature 72 (0.000718)\n",
      "280. feature 367 (0.000714)\n",
      "281. feature 152 (0.000714)\n",
      "282. feature 193 (0.000708)\n",
      "283. feature 165 (0.000706)\n",
      "284. feature 283 (0.000702)\n",
      "285. feature 180 (0.000689)\n",
      "286. feature 295 (0.000686)\n",
      "287. feature 242 (0.000684)\n",
      "288. feature 13 (0.000683)\n",
      "289. feature 233 (0.000669)\n",
      "290. feature 320 (0.000665)\n",
      "291. feature 301 (0.000659)\n",
      "292. feature 163 (0.000658)\n",
      "293. feature 58 (0.000657)\n",
      "294. feature 204 (0.000657)\n",
      "295. feature 248 (0.000656)\n",
      "296. feature 206 (0.000654)\n",
      "297. feature 85 (0.000648)\n",
      "298. feature 93 (0.000642)\n",
      "299. feature 156 (0.000636)\n",
      "300. feature 381 (0.000635)\n",
      "301. feature 223 (0.000615)\n",
      "302. feature 251 (0.000615)\n",
      "303. feature 365 (0.000613)\n",
      "304. feature 243 (0.000609)\n",
      "305. feature 317 (0.000605)\n",
      "306. feature 31 (0.000595)\n",
      "307. feature 3 (0.000587)\n",
      "308. feature 51 (0.000581)\n",
      "309. feature 91 (0.000579)\n",
      "310. feature 228 (0.000568)\n",
      "311. feature 350 (0.000567)\n",
      "312. feature 259 (0.000562)\n",
      "313. feature 54 (0.000559)\n",
      "314. feature 17 (0.000554)\n",
      "315. feature 1 (0.000551)\n",
      "316. feature 212 (0.000551)\n",
      "317. feature 79 (0.000549)\n",
      "318. feature 120 (0.000541)\n",
      "319. feature 106 (0.000536)\n",
      "320. feature 67 (0.000533)\n",
      "321. feature 87 (0.000532)\n",
      "322. feature 377 (0.000527)\n",
      "323. feature 66 (0.000520)\n",
      "324. feature 356 (0.000517)\n",
      "325. feature 313 (0.000517)\n",
      "326. feature 227 (0.000515)\n",
      "327. feature 5 (0.000514)\n",
      "328. feature 302 (0.000514)\n",
      "329. feature 136 (0.000512)\n",
      "330. feature 337 (0.000502)\n",
      "331. feature 277 (0.000501)\n",
      "332. feature 237 (0.000498)\n",
      "333. feature 296 (0.000496)\n",
      "334. feature 265 (0.000493)\n",
      "335. feature 121 (0.000485)\n",
      "336. feature 392 (0.000483)\n",
      "337. feature 380 (0.000480)\n",
      "338. feature 125 (0.000476)\n",
      "339. feature 48 (0.000466)\n",
      "340. feature 211 (0.000465)\n",
      "341. feature 315 (0.000464)\n",
      "342. feature 281 (0.000463)\n",
      "343. feature 366 (0.000463)\n",
      "344. feature 97 (0.000454)\n",
      "345. feature 263 (0.000452)\n",
      "346. feature 353 (0.000451)\n",
      "347. feature 236 (0.000451)\n",
      "348. feature 50 (0.000448)\n",
      "349. feature 309 (0.000444)\n",
      "350. feature 39 (0.000441)\n",
      "351. feature 374 (0.000426)\n",
      "352. feature 348 (0.000425)\n",
      "353. feature 127 (0.000414)\n",
      "354. feature 235 (0.000412)\n",
      "355. feature 16 (0.000410)\n",
      "356. feature 76 (0.000402)\n",
      "357. feature 149 (0.000399)\n",
      "358. feature 280 (0.000398)\n",
      "359. feature 372 (0.000396)\n",
      "360. feature 205 (0.000396)\n",
      "361. feature 332 (0.000394)\n",
      "362. feature 260 (0.000377)\n",
      "363. feature 314 (0.000360)\n",
      "364. feature 153 (0.000355)\n",
      "365. feature 24 (0.000353)\n",
      "366. feature 81 (0.000352)\n",
      "367. feature 216 (0.000349)\n",
      "368. feature 316 (0.000347)\n",
      "369. feature 52 (0.000346)\n",
      "370. feature 167 (0.000343)\n",
      "371. feature 351 (0.000341)\n",
      "372. feature 45 (0.000338)\n",
      "373. feature 105 (0.000328)\n",
      "374. feature 77 (0.000325)\n",
      "375. feature 173 (0.000323)\n",
      "376. feature 65 (0.000298)\n",
      "377. feature 275 (0.000282)\n",
      "378. feature 88 (0.000274)\n",
      "379. feature 143 (0.000267)\n",
      "380. feature 53 (0.000263)\n",
      "381. feature 169 (0.000239)\n",
      "382. feature 252 (0.000230)\n",
      "383. feature 104 (0.000224)\n",
      "384. feature 362 (0.000219)\n",
      "385. feature 191 (0.000212)\n",
      "386. feature 306 (0.000205)\n",
      "387. feature 30 (0.000198)\n",
      "388. feature 293 (0.000187)\n",
      "389. feature 329 (0.000183)\n",
      "390. feature 56 (0.000164)\n",
      "391. feature 0 (0.000160)\n",
      "392. feature 224 (0.000153)\n",
      "393. feature 336 (0.000150)\n",
      "394. feature 297 (0.000137)\n",
      "395. feature 282 (0.000136)\n",
      "396. feature 63 (0.000121)\n",
      "397. feature 70 (0.000116)\n",
      "398. feature 286 (0.000047)\n",
      "399. feature 208 (0.000000)\n",
      "400. feature 285 (0.000000)\n"
     ]
    },
    {
     "data": {
      "image/png": "[encoded data removed]",
      "text/plain": [
       "<matplotlib.figure.Figure at 0x7f8f98d53a90>"
      ]
     },
     "metadata": {},
     "output_type": "display_data"
    }
   ],
   "source": [
    "forest = clf\n",
    "importances = forest.feature_importances_\n",
    "std = np.std([tree.feature_importances_ for tree in forest.estimators_],\n",
    "             axis=0)\n",
    "indices = np.argsort(importances)[::-1]\n",
    "\n",
    "# Print the feature ranking\n",
    "print(\"Feature ranking:\")\n",
    "\n",
    "for f in range(X.shape[1]):\n",
    "    print(\"%d. feature %d (%f)\" % (f + 1, indices[f], importances[indices[f]]))\n",
    "\n",
    "# Plot the feature importances of the forest\n",
    "plt.figure()\n",
    "plt.title(\"Feature importances\")\n",
    "plt.bar(range(X.shape[1]), importances[indices],\n",
    "       color=\"r\", yerr=std[indices], align=\"center\")\n",
    "plt.xticks(range(X.shape[1]), indices)\n",
    "plt.xlim([-1, X.shape[1]])\n",
    "plt.show()"
   ]
  },
  {
   "cell_type": "markdown",
   "metadata": {},
   "source": [
    "### SVM RBF"
   ]
  },
  {
   "cell_type": "code",
   "execution_count": 33,
   "metadata": {
    "collapsed": true
   },
   "outputs": [],
   "source": [
    "clf = svm.NuSVC(kernel=\"rbf\")"
   ]
  },
  {
   "cell_type": "code",
   "execution_count": 34,
   "metadata": {
    "collapsed": false
   },
   "outputs": [
    {
     "name": "stdout",
     "output_type": "stream",
     "text": [
      "             precision    recall  f1-score   support\n",
      "\n",
      "          0       1.00      1.00      1.00        22\n",
      "          1       1.00      0.93      0.96        14\n",
      "          2       1.00      1.00      1.00        25\n",
      "          3       0.95      1.00      0.97        18\n",
      "          4       1.00      1.00      1.00        24\n",
      "\n",
      "avg / total       0.99      0.99      0.99       103\n",
      "\n",
      "5 Fold CrossValidation Score \n",
      "\n",
      "[ 0.98076923  0.98039216  0.92156863  0.97058824  0.98019802]\n",
      "Mean 0.966703254036\n"
     ]
    }
   ],
   "source": [
    "clf.fit(X_train, y_train)\n",
    "\n",
    "#Perform classification on train test split\n",
    "y_pred = clf.predict(X_test)\n",
    "print metrics.classification_report(y_test, y_pred)\n",
    "\n",
    "#Perform 5 fold crossval                                           \n",
    "scores = cross_validation.cross_val_score(clf, train_data[0], train_data[1], cv=5)  \n",
    "print '5 Fold CrossValidation Score \\n'\n",
    "print scores\n",
    "print 'Mean', scores.mean()"
   ]
  },
  {
   "cell_type": "code",
   "execution_count": null,
   "metadata": {
    "collapsed": true
   },
   "outputs": [],
   "source": []
  },
  {
   "cell_type": "code",
   "execution_count": null,
   "metadata": {
    "collapsed": true
   },
   "outputs": [],
   "source": []
  },
  {
   "cell_type": "code",
   "execution_count": null,
   "metadata": {
    "collapsed": true
   },
   "outputs": [],
   "source": []
  },
  {
   "cell_type": "code",
   "execution_count": null,
   "metadata": {
    "collapsed": true
   },
   "outputs": [],
   "source": []
  },
  {
   "cell_type": "code",
   "execution_count": null,
   "metadata": {
    "collapsed": true
   },
   "outputs": [],
   "source": []
  },
  {
   "cell_type": "code",
   "execution_count": null,
   "metadata": {
    "collapsed": true
   },
   "outputs": [],
   "source": []
  },
  {
   "cell_type": "code",
   "execution_count": null,
   "metadata": {
    "collapsed": true
   },
   "outputs": [],
   "source": []
  },
  {
   "cell_type": "code",
   "execution_count": null,
   "metadata": {
    "collapsed": true
   },
   "outputs": [],
   "source": []
  },
  {
   "cell_type": "code",
   "execution_count": null,
   "metadata": {
    "collapsed": true
   },
   "outputs": [],
   "source": []
  },
  {
   "cell_type": "code",
   "execution_count": null,
   "metadata": {
    "collapsed": true
   },
   "outputs": [],
   "source": []
  },
  {
   "cell_type": "code",
   "execution_count": null,
   "metadata": {
    "collapsed": true
   },
   "outputs": [],
   "source": []
  },
  {
   "cell_type": "code",
   "execution_count": null,
   "metadata": {
    "collapsed": true
   },
   "outputs": [],
   "source": []
  },
  {
   "cell_type": "code",
   "execution_count": null,
   "metadata": {
    "collapsed": true
   },
   "outputs": [],
   "source": []
  },
  {
   "cell_type": "markdown",
   "metadata": {},
   "source": [
    "### Detect Outliers\n",
    "Inliers are labeled 1, while outliers are labeled -1"
   ]
  },
  {
   "cell_type": "code",
   "execution_count": 35,
   "metadata": {
    "collapsed": true
   },
   "outputs": [],
   "source": [
    "import numpy as np\n",
    "import matplotlib.pyplot as plt\n",
    "import matplotlib.font_manager\n",
    "from sklearn import svm"
   ]
  },
  {
   "cell_type": "code",
   "execution_count": 36,
   "metadata": {
    "collapsed": true
   },
   "outputs": [],
   "source": [
    "# fit the model\n",
    "clf = svm.OneClassSVM(nu=0.1, kernel=\"rbf\", gamma=0.1)\n",
    "clf.fit(X_train)\n",
    "y_pred_train = clf.predict(X_train)\n",
    "y_pred_test = clf.predict(X_test)"
   ]
  },
  {
   "cell_type": "code",
   "execution_count": 28,
   "metadata": {
    "collapsed": false
   },
   "outputs": [
    {
     "ename": "NameError",
     "evalue": "name 'X_outliers' is not defined",
     "output_type": "error",
     "traceback": [
      "\u001b[1;31m\u001b[0m",
      "\u001b[1;31mNameError\u001b[0mTraceback (most recent call last)",
      "\u001b[1;32m<ipython-input-28-bc31ad2a7ad4>\u001b[0m in \u001b[0;36m<module>\u001b[1;34m()\u001b[0m\n\u001b[1;32m----> 1\u001b[1;33m \u001b[0my_pred_outliers\u001b[0m \u001b[1;33m=\u001b[0m \u001b[0mclf\u001b[0m\u001b[1;33m.\u001b[0m\u001b[0mpredict\u001b[0m\u001b[1;33m(\u001b[0m\u001b[0mX_outliers\u001b[0m\u001b[1;33m)\u001b[0m\u001b[1;33m\u001b[0m\u001b[0m\n\u001b[0m",
      "\u001b[1;31mNameError\u001b[0m: name 'X_outliers' is not defined"
     ]
    }
   ],
   "source": [
    "y_pred_outliers = clf.predict(X_outliers)"
   ]
  },
  {
   "cell_type": "code",
   "execution_count": 29,
   "metadata": {
    "collapsed": false
   },
   "outputs": [
    {
     "name": "stdout",
     "output_type": "stream",
     "text": [
      "Counter({1.0: 291, -1.0: 31})\n",
      "Counter({1.0: 675, -1.0: 75})\n"
     ]
    }
   ],
   "source": [
    "from collections import Counter                                             \n",
    "t = Counter(y_pred_test)   \n",
    "tr = Counter(y_pred_train)  \n",
    "print t\n",
    "print tr"
   ]
  },
  {
   "cell_type": "code",
   "execution_count": 30,
   "metadata": {
    "collapsed": false
   },
   "outputs": [
    {
     "name": "stdout",
     "output_type": "stream",
     "text": [
      "90.3726708075\n",
      "90.0\n"
     ]
    }
   ],
   "source": [
    "print float(t[1]) / sum(t.values())*100\n",
    "print float(tr[1]) / sum(tr.values())*100"
   ]
  },
  {
   "cell_type": "code",
   "execution_count": 31,
   "metadata": {
    "collapsed": true
   },
   "outputs": [],
   "source": [
    "test_d = c.getTestData()"
   ]
  },
  {
   "cell_type": "code",
   "execution_count": 32,
   "metadata": {
    "collapsed": false
   },
   "outputs": [],
   "source": [
    "y_pred_test = clf.predict(test_d[0])"
   ]
  },
  {
   "cell_type": "code",
   "execution_count": 33,
   "metadata": {
    "collapsed": false
   },
   "outputs": [
    {
     "name": "stdout",
     "output_type": "stream",
     "text": [
      "72.0\n"
     ]
    }
   ],
   "source": [
    "t = Counter(y_pred_test)  \n",
    "print float(t[1]) / sum(t.values())*100\n"
   ]
  },
  {
   "cell_type": "code",
   "execution_count": 38,
   "metadata": {
    "collapsed": false
   },
   "outputs": [
    {
     "name": "stdout",
     "output_type": "stream",
     "text": [
      "started extracting feautes\n",
      "done extracting features\n",
      "[-1.  1.  1.  1.  1.]\n"
     ]
    }
   ],
   "source": [
    "outlier = c.getOutlierData()\n",
    "o = clf.predict(outlier)\n",
    "print o"
   ]
  },
  {
   "cell_type": "code",
   "execution_count": 40,
   "metadata": {
    "collapsed": true
   },
   "outputs": [],
   "source": [
    "o = Counter(o)"
   ]
  },
  {
   "cell_type": "code",
   "execution_count": 41,
   "metadata": {
    "collapsed": false
   },
   "outputs": [
    {
     "name": "stdout",
     "output_type": "stream",
     "text": [
      "20.0\n"
     ]
    }
   ],
   "source": [
    "print float(o[-1]) / sum(o.values())*100"
   ]
  },
  {
   "cell_type": "code",
   "execution_count": 47,
   "metadata": {
    "collapsed": false
   },
   "outputs": [
    {
     "name": "stdout",
     "output_type": "stream",
     "text": [
      "started extracting feautes\n",
      "done extracting features\n"
     ]
    }
   ],
   "source": [
    "X_outliers = c.getOutlierData()\n",
    "\n",
    "# fit the model\n",
    "clf = svm.OneClassSVM(nu=0.1, kernel=\"rbf\", gamma=0.1)\n",
    "clf.fit(X_train)\n",
    "y_pred_train = clf.predict(X_train)\n",
    "y_pred_test = clf.predict(X_test)\n",
    "y_pred_outliers = clf.predict(X_outliers)\n",
    "n_error_train = y_pred_train[y_pred_train == -1].size\n",
    "n_error_test = y_pred_test[y_pred_test == -1].size\n",
    "n_error_outliers = y_pred_outliers[y_pred_outliers == 1].size\n",
    "\n"
   ]
  }
 ],
 "metadata": {
  "kernelspec": {
   "display_name": "Python 2",
   "language": "python",
   "name": "python2"
  },
  "language_info": {
   "codemirror_mode": {
    "name": "ipython",
    "version": 2
   },
   "file_extension": ".py",
   "mimetype": "text/x-python",
   "name": "python",
   "nbconvert_exporter": "python",
   "pygments_lexer": "ipython2",
   "version": "2.7.12"
  }
 },
 "nbformat": 4,
 "nbformat_minor": 0
}

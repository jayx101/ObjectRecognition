{
 "cells": [
  {
   "cell_type": "code",
   "execution_count": 3,
   "metadata": {
    "collapsed": false
   },
   "outputs": [],
   "source": [
    "import joblib\n",
    "\n",
    "import numpy as np\n",
    "import pandas as pd\n",
    "\n",
    "from sklearn.svm import LinearSVC\n",
    "from sklearn import cross_validation                                        \n",
    "from sklearn import svm   \n",
    "from sklearn import metrics\n",
    "from sklearn import ensemble\n",
    "from sklearn import cross_validation                                           \n",
    "from sklearn import svm          \n",
    "%matplotlib inline\n",
    "import matplotlib.pyplot as plt"
   ]
  },
  {
   "cell_type": "code",
   "execution_count": 21,
   "metadata": {
    "collapsed": false
   },
   "outputs": [
    {
     "name": "stdout",
     "output_type": "stream",
     "text": [
      "creating BOW of size 400\n",
      "done creating BOW\n",
      "started extracting feautes\n",
      "done extracting features\n"
     ]
    }
   ],
   "source": [
    "# Set all parameters for the classifer\n",
    "c.setClassifierParams(crop=True,bow_size=400, hessian=400,grayscale=True, verbose=False, resize=True, resize_width=600)\n",
    "\n",
    "train_data = c.getTrainData(True)"
   ]
  },
  {
   "cell_type": "code",
   "execution_count": 18,
   "metadata": {
    "collapsed": false
   },
   "outputs": [
    {
     "name": "stdout",
     "output_type": "stream",
     "text": [
      "Counter({4: 143, 6: 112, 5: 106, 1: 104, 0: 103, 9: 101, 2: 98, 3: 98, 8: 96, 7: 95})\n"
     ]
    }
   ],
   "source": [
    "X_train, X_test, y_train, y_test = cross_validation.train_test_split(\n",
    "    train_data[0], train_data[1], test_size=0.2)\n",
    "\n",
    "weights = c.getClassWeights()"
   ]
  },
  {
   "cell_type": "code",
   "execution_count": 19,
   "metadata": {
    "collapsed": false
   },
   "outputs": [
    {
     "data": {
      "text/plain": [
       "['remote',\n",
       " 'triggersmall',\n",
       " 'nurofen',\n",
       " 'glasses',\n",
       " 'leatherman',\n",
       " 'bulb',\n",
       " 'pliers',\n",
       " 'fitbit',\n",
       " 'keys',\n",
       " 'trigger']"
      ]
     },
     "execution_count": 19,
     "metadata": {},
     "output_type": "execute_result"
    }
   ],
   "source": [
    "c.class2Name([0,1,2,3,4,5,6,7,8,9,])"
   ]
  },
  {
   "cell_type": "markdown",
   "metadata": {},
   "source": [
    "## Linear SVM"
   ]
  },
  {
   "cell_type": "code",
   "execution_count": 20,
   "metadata": {
    "collapsed": false
   },
   "outputs": [
    {
     "name": "stdout",
     "output_type": "stream",
     "text": [
      "             precision    recall  f1-score   support\n",
      "\n",
      "          0       1.00      1.00      1.00        24\n",
      "          1       1.00      1.00      1.00        21\n",
      "          2       1.00      1.00      1.00        19\n",
      "          3       1.00      1.00      1.00        20\n",
      "          4       0.97      1.00      0.98        30\n",
      "          5       1.00      1.00      1.00        26\n",
      "          6       1.00      1.00      1.00        18\n",
      "          7       1.00      1.00      1.00        19\n",
      "          8       1.00      0.93      0.97        15\n",
      "          9       1.00      1.00      1.00        20\n",
      "\n",
      "avg / total       1.00      1.00      1.00       212\n",
      "\n",
      "5 Fold CrossValidation Score \n",
      "\n",
      "[ 0.99537037  0.98122066  1.          0.99038462  0.98550725]\n",
      "Mean 0.990496577882\n"
     ]
    }
   ],
   "source": [
    "clf = LinearSVC(class_weight='balanced')\n",
    "clf.fit(X_train, y_train)\n",
    "\n",
    "#Perform classification on train test split\n",
    "y_pred = clf.predict(X_test)\n",
    "print metrics.classification_report(y_test, y_pred)\n",
    "\n",
    "#Perform 5 fold crossval                                            \n",
    "scores = cross_validation.cross_val_score(clf, train_data[0], train_data[1], cv=5)  \n",
    "print '5 Fold CrossValidation Score \\n'\n",
    "print scores\n",
    "print 'Mean', scores.mean()"
   ]
  },
  {
   "cell_type": "code",
   "execution_count": 9,
   "metadata": {
    "collapsed": false
   },
   "outputs": [
    {
     "data": {
      "text/plain": [
       "['remote',\n",
       " 'triggersmall',\n",
       " 'nurofen',\n",
       " 'glasses',\n",
       " 'leatherman',\n",
       " 'bulb',\n",
       " 'pliers',\n",
       " 'fitbit',\n",
       " 'keys',\n",
       " 'trigger']"
      ]
     },
     "execution_count": 9,
     "metadata": {},
     "output_type": "execute_result"
    }
   ],
   "source": [
    "c.class2Name([0,1,2,3,4,5,6,7,8,9,])"
   ]
  },
  {
   "cell_type": "code",
   "execution_count": 16,
   "metadata": {
    "collapsed": false
   },
   "outputs": [
    {
     "name": "stdout",
     "output_type": "stream",
     "text": [
      "started extracting feautes\n",
      "done extracting features\n",
      "             precision    recall  f1-score   support\n",
      "\n",
      "          0       1.00      1.00      1.00        10\n",
      "          1       0.89      1.00      0.94         8\n",
      "          2       0.92      1.00      0.96        11\n",
      "          3       0.91      1.00      0.95        10\n",
      "          4       1.00      0.80      0.89        10\n",
      "          5       1.00      0.20      0.33        10\n",
      "          6       0.59      1.00      0.74        10\n",
      "          7       0.78      0.70      0.74        10\n",
      "          8       0.90      0.90      0.90        10\n",
      "          9       0.91      1.00      0.95        10\n",
      "\n",
      "avg / total       0.89      0.86      0.84        99\n",
      "\n"
     ]
    }
   ],
   "source": [
    "#With Final Test Data\n",
    "#clf = LinearSVC(class_weight='balanced')\n",
    "c.setClassifierParams(crop=False,bow_size=700, hessian=400,grayscale=True, verbose=False)\n",
    "\n",
    "clf.fit(train_data[0], train_data[1])\n",
    "report, df = c.predict(clf,True)\n",
    "\n",
    "print report"
   ]
  },
  {
   "cell_type": "markdown",
   "metadata": {},
   "source": [
    "## Logistic"
   ]
  },
  {
   "cell_type": "code",
   "execution_count": 66,
   "metadata": {
    "collapsed": false
   },
   "outputs": [],
   "source": [
    "from sklearn import linear_model\n",
    "\n",
    "clf = linear_model.LogisticRegression(class_weight='balanced')"
   ]
  },
  {
   "cell_type": "code",
   "execution_count": 67,
   "metadata": {
    "collapsed": false
   },
   "outputs": [
    {
     "name": "stdout",
     "output_type": "stream",
     "text": [
      "             precision    recall  f1-score   support\n",
      "\n",
      "          0       1.00      1.00      1.00        21\n",
      "          1       1.00      0.95      0.97        20\n",
      "          2       1.00      1.00      1.00        17\n",
      "          3       0.96      1.00      0.98        24\n",
      "          4       0.55      1.00      0.71        26\n",
      "          5       0.93      1.00      0.96        25\n",
      "          6       1.00      0.89      0.94        19\n",
      "          7       1.00      1.00      1.00        19\n",
      "          8       0.00      0.00      0.00        21\n",
      "          9       0.95      0.95      0.95        20\n",
      "\n",
      "avg / total       0.83      0.88      0.85       212\n",
      "\n",
      "5 Fold CrossValidation Score \n",
      "\n",
      "[ 0.89814815  0.90610329  0.89622642  0.88942308  0.90338164]\n",
      "Mean 0.898656513813\n"
     ]
    }
   ],
   "source": [
    "clf.fit(X_train, y_train)\n",
    "#Perform classification on train test split\n",
    "y_pred = clf.predict(X_test)\n",
    "print metrics.classification_report(y_test, y_pred)\n",
    "\n",
    "#Perform 5 fold crossval                                       \n",
    "scores = cross_validation.cross_val_score(clf, train_data[0], train_data[1], cv=5)  \n",
    "print '5 Fold CrossValidation Score \\n'\n",
    "print scores\n",
    "print 'Mean', scores.mean()"
   ]
  },
  {
   "cell_type": "markdown",
   "metadata": {},
   "source": [
    "### Random Forest"
   ]
  },
  {
   "cell_type": "code",
   "execution_count": 68,
   "metadata": {
    "collapsed": false
   },
   "outputs": [],
   "source": [
    "# Estimate the score on the entire dataset, with no missing valules\n",
    "frst = ensemble.RandomForestClassifier(random_state=0, n_estimators=100, class_weight='balanced')"
   ]
  },
  {
   "cell_type": "code",
   "execution_count": 69,
   "metadata": {
    "collapsed": true
   },
   "outputs": [],
   "source": [
    "frst.fit(X_train, y_train)\n",
    "\n",
    "#Perform classification on train test split\n",
    "y_pred = frst.predict(X_test)"
   ]
  },
  {
   "cell_type": "code",
   "execution_count": 70,
   "metadata": {
    "collapsed": false
   },
   "outputs": [
    {
     "name": "stdout",
     "output_type": "stream",
     "text": [
      "             precision    recall  f1-score   support\n",
      "\n",
      "          0       1.00      1.00      1.00        21\n",
      "          1       1.00      1.00      1.00        20\n",
      "          2       1.00      1.00      1.00        17\n",
      "          3       1.00      1.00      1.00        24\n",
      "          4       1.00      1.00      1.00        26\n",
      "          5       1.00      1.00      1.00        25\n",
      "          6       1.00      1.00      1.00        19\n",
      "          7       1.00      1.00      1.00        19\n",
      "          8       1.00      1.00      1.00        21\n",
      "          9       1.00      1.00      1.00        20\n",
      "\n",
      "avg / total       1.00      1.00      1.00       212\n",
      "\n",
      "5 Fold CrossValidation Score \n",
      "\n",
      "[ 0.99074074  1.          1.          0.98557692  0.98550725]\n",
      "Mean 0.992364982039\n"
     ]
    }
   ],
   "source": [
    "#Perform classification on train test split\n",
    "y_pred = frst.predict(X_test)\n",
    "print metrics.classification_report(y_test, y_pred)\n",
    "#Perform 5 fold crossval\n",
    "scores = cross_validation.cross_val_score(frst, train_data[0], train_data[1], cv=5)  \n",
    "print '5 Fold CrossValidation Score \\n'\n",
    "print scores\n",
    "print 'Mean', scores.mean()"
   ]
  },
  {
   "cell_type": "code",
   "execution_count": 71,
   "metadata": {
    "collapsed": false
   },
   "outputs": [],
   "source": [
    "X = np.array(X_train)"
   ]
  },
  {
   "cell_type": "code",
   "execution_count": 72,
   "metadata": {
    "collapsed": false
   },
   "outputs": [
    {
     "data": {
      "text/plain": [
       "(844, 400)"
      ]
     },
     "execution_count": 72,
     "metadata": {},
     "output_type": "execute_result"
    }
   ],
   "source": [
    "X.shape"
   ]
  },
  {
   "cell_type": "code",
   "execution_count": 74,
   "metadata": {
    "collapsed": false
   },
   "outputs": [
    {
     "name": "stdout",
     "output_type": "stream",
     "text": [
      "Feature ranking:\n",
      "1. feature 347 (0.022730)\n",
      "2. feature 8 (0.021740)\n",
      "3. feature 61 (0.020772)\n",
      "4. feature 2 (0.020334)\n",
      "5. feature 336 (0.016782)\n",
      "6. feature 386 (0.015636)\n",
      "7. feature 339 (0.015471)\n",
      "8. feature 39 (0.014675)\n",
      "9. feature 327 (0.012123)\n",
      "10. feature 308 (0.011645)\n",
      "11. feature 220 (0.011075)\n",
      "12. feature 77 (0.010873)\n",
      "13. feature 134 (0.010024)\n",
      "14. feature 159 (0.009896)\n",
      "15. feature 236 (0.009840)\n",
      "16. feature 1 (0.009806)\n",
      "17. feature 249 (0.009757)\n",
      "18. feature 172 (0.009548)\n",
      "19. feature 18 (0.008914)\n",
      "20. feature 380 (0.008782)\n",
      "21. feature 124 (0.008687)\n",
      "22. feature 267 (0.008476)\n",
      "23. feature 66 (0.008329)\n",
      "24. feature 381 (0.008073)\n",
      "25. feature 23 (0.007984)\n",
      "26. feature 149 (0.007642)\n",
      "27. feature 296 (0.007620)\n",
      "28. feature 393 (0.007495)\n",
      "29. feature 123 (0.007468)\n",
      "30. feature 240 (0.007238)\n",
      "31. feature 260 (0.007093)\n",
      "32. feature 111 (0.006900)\n",
      "33. feature 353 (0.006799)\n",
      "34. feature 131 (0.006429)\n",
      "35. feature 13 (0.006329)\n",
      "36. feature 10 (0.006206)\n",
      "37. feature 280 (0.006166)\n",
      "38. feature 355 (0.006130)\n",
      "39. feature 389 (0.006129)\n",
      "40. feature 87 (0.006000)\n",
      "41. feature 325 (0.005923)\n",
      "42. feature 392 (0.005922)\n",
      "43. feature 317 (0.005857)\n",
      "44. feature 130 (0.005656)\n",
      "45. feature 359 (0.005648)\n",
      "46. feature 83 (0.005586)\n",
      "47. feature 244 (0.005583)\n",
      "48. feature 45 (0.005433)\n",
      "49. feature 122 (0.005361)\n",
      "50. feature 263 (0.005348)\n",
      "51. feature 102 (0.005237)\n",
      "52. feature 364 (0.005213)\n",
      "53. feature 385 (0.004917)\n",
      "54. feature 390 (0.004821)\n",
      "55. feature 48 (0.004792)\n",
      "56. feature 396 (0.004739)\n",
      "57. feature 136 (0.004715)\n",
      "58. feature 242 (0.004673)\n",
      "59. feature 79 (0.004554)\n",
      "60. feature 19 (0.004544)\n",
      "61. feature 67 (0.004507)\n",
      "62. feature 367 (0.004493)\n",
      "63. feature 86 (0.004444)\n",
      "64. feature 225 (0.004405)\n",
      "65. feature 223 (0.004327)\n",
      "66. feature 205 (0.004291)\n",
      "67. feature 388 (0.004200)\n",
      "68. feature 128 (0.004189)\n",
      "69. feature 345 (0.004057)\n",
      "70. feature 11 (0.004032)\n",
      "71. feature 200 (0.003975)\n",
      "72. feature 342 (0.003853)\n",
      "73. feature 44 (0.003817)\n",
      "74. feature 90 (0.003796)\n",
      "75. feature 63 (0.003694)\n",
      "76. feature 99 (0.003572)\n",
      "77. feature 50 (0.003552)\n",
      "78. feature 398 (0.003547)\n",
      "79. feature 391 (0.003464)\n",
      "80. feature 189 (0.003436)\n",
      "81. feature 287 (0.003407)\n",
      "82. feature 166 (0.003387)\n",
      "83. feature 314 (0.003321)\n",
      "84. feature 71 (0.003279)\n",
      "85. feature 156 (0.003240)\n",
      "86. feature 326 (0.003224)\n",
      "87. feature 191 (0.003217)\n",
      "88. feature 4 (0.003198)\n",
      "89. feature 118 (0.003189)\n",
      "90. feature 290 (0.003161)\n",
      "91. feature 395 (0.003146)\n",
      "92. feature 365 (0.003101)\n",
      "93. feature 235 (0.003097)\n",
      "94. feature 162 (0.003081)\n",
      "95. feature 247 (0.003052)\n",
      "96. feature 371 (0.003005)\n",
      "97. feature 227 (0.002995)\n",
      "98. feature 104 (0.002964)\n",
      "99. feature 153 (0.002954)\n",
      "100. feature 109 (0.002933)\n",
      "101. feature 151 (0.002915)\n",
      "102. feature 335 (0.002895)\n",
      "103. feature 319 (0.002862)\n",
      "104. feature 311 (0.002818)\n",
      "105. feature 288 (0.002814)\n",
      "106. feature 341 (0.002756)\n",
      "107. feature 330 (0.002734)\n",
      "108. feature 154 (0.002723)\n",
      "109. feature 315 (0.002713)\n",
      "110. feature 331 (0.002683)\n",
      "111. feature 271 (0.002662)\n",
      "112. feature 373 (0.002639)\n",
      "113. feature 186 (0.002639)\n",
      "114. feature 383 (0.002615)\n",
      "115. feature 384 (0.002601)\n",
      "116. feature 213 (0.002589)\n",
      "117. feature 15 (0.002586)\n",
      "118. feature 266 (0.002561)\n",
      "119. feature 275 (0.002538)\n",
      "120. feature 333 (0.002528)\n",
      "121. feature 322 (0.002510)\n",
      "122. feature 179 (0.002503)\n",
      "123. feature 338 (0.002491)\n",
      "124. feature 258 (0.002487)\n",
      "125. feature 152 (0.002472)\n",
      "126. feature 372 (0.002469)\n",
      "127. feature 264 (0.002429)\n",
      "128. feature 170 (0.002414)\n",
      "129. feature 210 (0.002383)\n",
      "130. feature 273 (0.002374)\n",
      "131. feature 174 (0.002360)\n",
      "132. feature 188 (0.002357)\n",
      "133. feature 358 (0.002347)\n",
      "134. feature 42 (0.002339)\n",
      "135. feature 46 (0.002311)\n",
      "136. feature 310 (0.002264)\n",
      "137. feature 28 (0.002259)\n",
      "138. feature 3 (0.002221)\n",
      "139. feature 144 (0.002214)\n",
      "140. feature 332 (0.002170)\n",
      "141. feature 127 (0.002163)\n",
      "142. feature 307 (0.002160)\n",
      "143. feature 243 (0.002152)\n",
      "144. feature 139 (0.002117)\n",
      "145. feature 177 (0.002112)\n",
      "146. feature 302 (0.002098)\n",
      "147. feature 137 (0.002069)\n",
      "148. feature 382 (0.002066)\n",
      "149. feature 140 (0.002065)\n",
      "150. feature 362 (0.002024)\n",
      "151. feature 329 (0.002020)\n",
      "152. feature 361 (0.002018)\n",
      "153. feature 112 (0.002004)\n",
      "154. feature 80 (0.002003)\n",
      "155. feature 268 (0.001985)\n",
      "156. feature 323 (0.001983)\n",
      "157. feature 316 (0.001970)\n",
      "158. feature 305 (0.001962)\n",
      "159. feature 313 (0.001950)\n",
      "160. feature 56 (0.001937)\n",
      "161. feature 165 (0.001931)\n",
      "162. feature 233 (0.001881)\n",
      "163. feature 246 (0.001862)\n",
      "164. feature 53 (0.001851)\n",
      "165. feature 129 (0.001779)\n",
      "166. feature 57 (0.001775)\n",
      "167. feature 292 (0.001752)\n",
      "168. feature 284 (0.001740)\n",
      "169. feature 253 (0.001732)\n",
      "170. feature 286 (0.001728)\n",
      "171. feature 251 (0.001712)\n",
      "172. feature 369 (0.001690)\n",
      "173. feature 126 (0.001683)\n",
      "174. feature 222 (0.001670)\n",
      "175. feature 231 (0.001635)\n",
      "176. feature 352 (0.001603)\n",
      "177. feature 277 (0.001598)\n",
      "178. feature 274 (0.001589)\n",
      "179. feature 58 (0.001585)\n",
      "180. feature 105 (0.001584)\n",
      "181. feature 107 (0.001570)\n",
      "182. feature 167 (0.001525)\n",
      "183. feature 17 (0.001520)\n",
      "184. feature 146 (0.001514)\n",
      "185. feature 91 (0.001496)\n",
      "186. feature 349 (0.001430)\n",
      "187. feature 32 (0.001420)\n",
      "188. feature 370 (0.001413)\n",
      "189. feature 221 (0.001408)\n",
      "190. feature 82 (0.001407)\n",
      "191. feature 376 (0.001406)\n",
      "192. feature 6 (0.001380)\n",
      "193. feature 219 (0.001379)\n",
      "194. feature 81 (0.001375)\n",
      "195. feature 157 (0.001368)\n",
      "196. feature 148 (0.001367)\n",
      "197. feature 195 (0.001363)\n",
      "198. feature 300 (0.001358)\n",
      "199. feature 169 (0.001341)\n",
      "200. feature 201 (0.001326)\n",
      "201. feature 20 (0.001320)\n",
      "202. feature 196 (0.001301)\n",
      "203. feature 84 (0.001287)\n",
      "204. feature 101 (0.001283)\n",
      "205. feature 245 (0.001280)\n",
      "206. feature 230 (0.001270)\n",
      "207. feature 320 (0.001267)\n",
      "208. feature 239 (0.001267)\n",
      "209. feature 299 (0.001263)\n",
      "210. feature 88 (0.001262)\n",
      "211. feature 132 (0.001255)\n",
      "212. feature 321 (0.001243)\n",
      "213. feature 29 (0.001231)\n",
      "214. feature 163 (0.001216)\n",
      "215. feature 59 (0.001182)\n",
      "216. feature 114 (0.001181)\n",
      "217. feature 155 (0.001181)\n",
      "218. feature 356 (0.001165)\n",
      "219. feature 261 (0.001150)\n",
      "220. feature 357 (0.001150)\n",
      "221. feature 256 (0.001130)\n",
      "222. feature 344 (0.001125)\n",
      "223. feature 35 (0.001119)\n",
      "224. feature 387 (0.001113)\n",
      "225. feature 343 (0.001110)\n",
      "226. feature 96 (0.001096)\n",
      "227. feature 379 (0.001093)\n",
      "228. feature 75 (0.001086)\n",
      "229. feature 194 (0.001084)\n",
      "230. feature 93 (0.001073)\n",
      "231. feature 237 (0.001068)\n",
      "232. feature 121 (0.001064)\n",
      "233. feature 366 (0.001060)\n",
      "234. feature 255 (0.001051)\n",
      "235. feature 141 (0.001031)\n",
      "236. feature 182 (0.001028)\n",
      "237. feature 301 (0.001026)\n",
      "238. feature 198 (0.001024)\n",
      "239. feature 94 (0.001008)\n",
      "240. feature 27 (0.001003)\n",
      "241. feature 171 (0.000994)\n",
      "242. feature 199 (0.000986)\n",
      "243. feature 183 (0.000982)\n",
      "244. feature 30 (0.000981)\n",
      "245. feature 232 (0.000978)\n",
      "246. feature 125 (0.000973)\n",
      "247. feature 204 (0.000973)\n",
      "248. feature 294 (0.000969)\n",
      "249. feature 78 (0.000968)\n",
      "250. feature 192 (0.000963)\n",
      "251. feature 14 (0.000955)\n",
      "252. feature 16 (0.000947)\n",
      "253. feature 234 (0.000940)\n",
      "254. feature 363 (0.000940)\n",
      "255. feature 138 (0.000932)\n",
      "256. feature 248 (0.000930)\n",
      "257. feature 106 (0.000906)\n",
      "258. feature 368 (0.000894)\n",
      "259. feature 397 (0.000882)\n",
      "260. feature 178 (0.000872)\n",
      "261. feature 65 (0.000868)\n",
      "262. feature 176 (0.000859)\n",
      "263. feature 38 (0.000849)\n",
      "264. feature 92 (0.000836)\n",
      "265. feature 295 (0.000836)\n",
      "266. feature 262 (0.000835)\n",
      "267. feature 173 (0.000834)\n",
      "268. feature 250 (0.000822)\n",
      "269. feature 203 (0.000815)\n",
      "270. feature 378 (0.000811)\n",
      "271. feature 226 (0.000795)\n",
      "272. feature 285 (0.000791)\n",
      "273. feature 254 (0.000788)\n",
      "274. feature 64 (0.000787)\n",
      "275. feature 5 (0.000778)\n",
      "276. feature 241 (0.000767)\n",
      "277. feature 158 (0.000758)\n",
      "278. feature 97 (0.000754)\n",
      "279. feature 328 (0.000751)\n",
      "280. feature 119 (0.000746)\n",
      "281. feature 193 (0.000738)\n",
      "282. feature 224 (0.000738)\n",
      "283. feature 303 (0.000734)\n",
      "284. feature 62 (0.000732)\n",
      "285. feature 257 (0.000715)\n",
      "286. feature 278 (0.000714)\n",
      "287. feature 289 (0.000713)\n",
      "288. feature 215 (0.000711)\n",
      "289. feature 298 (0.000704)\n",
      "290. feature 21 (0.000701)\n",
      "291. feature 47 (0.000699)\n",
      "292. feature 24 (0.000696)\n",
      "293. feature 116 (0.000684)\n",
      "294. feature 168 (0.000671)\n",
      "295. feature 281 (0.000670)\n",
      "296. feature 318 (0.000666)\n",
      "297. feature 143 (0.000664)\n",
      "298. feature 252 (0.000663)\n",
      "299. feature 160 (0.000661)\n",
      "300. feature 190 (0.000657)\n",
      "301. feature 95 (0.000654)\n",
      "302. feature 40 (0.000650)\n",
      "303. feature 206 (0.000635)\n",
      "304. feature 72 (0.000629)\n",
      "305. feature 9 (0.000628)\n",
      "306. feature 43 (0.000622)\n",
      "307. feature 113 (0.000621)\n",
      "308. feature 145 (0.000619)\n",
      "309. feature 265 (0.000616)\n",
      "310. feature 202 (0.000615)\n",
      "311. feature 36 (0.000614)\n",
      "312. feature 161 (0.000591)\n",
      "313. feature 37 (0.000585)\n",
      "314. feature 324 (0.000580)\n",
      "315. feature 117 (0.000578)\n",
      "316. feature 70 (0.000575)\n",
      "317. feature 184 (0.000570)\n",
      "318. feature 334 (0.000570)\n",
      "319. feature 54 (0.000565)\n",
      "320. feature 85 (0.000552)\n",
      "321. feature 31 (0.000551)\n",
      "322. feature 394 (0.000550)\n",
      "323. feature 187 (0.000530)\n",
      "324. feature 110 (0.000527)\n",
      "325. feature 337 (0.000521)\n",
      "326. feature 272 (0.000514)\n",
      "327. feature 229 (0.000513)\n",
      "328. feature 309 (0.000513)\n",
      "329. feature 25 (0.000506)\n",
      "330. feature 228 (0.000504)\n",
      "331. feature 399 (0.000498)\n",
      "332. feature 279 (0.000493)\n",
      "333. feature 150 (0.000492)\n",
      "334. feature 147 (0.000489)\n",
      "335. feature 283 (0.000478)\n",
      "336. feature 33 (0.000478)\n",
      "337. feature 68 (0.000478)\n",
      "338. feature 185 (0.000471)\n",
      "339. feature 73 (0.000471)\n",
      "340. feature 98 (0.000470)\n",
      "341. feature 306 (0.000459)\n",
      "342. feature 142 (0.000449)\n",
      "343. feature 276 (0.000448)\n",
      "344. feature 115 (0.000445)\n",
      "345. feature 209 (0.000443)\n",
      "346. feature 12 (0.000439)\n",
      "347. feature 135 (0.000431)\n",
      "348. feature 49 (0.000429)\n",
      "349. feature 351 (0.000427)\n",
      "350. feature 291 (0.000413)\n",
      "351. feature 214 (0.000406)\n",
      "352. feature 297 (0.000403)\n",
      "353. feature 7 (0.000395)\n",
      "354. feature 259 (0.000392)\n",
      "355. feature 197 (0.000392)\n",
      "356. feature 133 (0.000390)\n",
      "357. feature 211 (0.000389)\n",
      "358. feature 348 (0.000381)\n",
      "359. feature 270 (0.000381)\n",
      "360. feature 216 (0.000373)\n",
      "361. feature 212 (0.000365)\n",
      "362. feature 175 (0.000363)\n",
      "363. feature 120 (0.000355)\n",
      "364. feature 60 (0.000350)\n",
      "365. feature 377 (0.000344)\n",
      "366. feature 74 (0.000336)\n",
      "367. feature 51 (0.000334)\n",
      "368. feature 346 (0.000329)\n",
      "369. feature 34 (0.000327)\n",
      "370. feature 304 (0.000319)\n",
      "371. feature 217 (0.000319)\n",
      "372. feature 238 (0.000312)\n",
      "373. feature 55 (0.000293)\n",
      "374. feature 89 (0.000291)\n",
      "375. feature 0 (0.000290)\n",
      "376. feature 218 (0.000284)\n",
      "377. feature 180 (0.000266)\n",
      "378. feature 340 (0.000264)\n",
      "379. feature 207 (0.000254)\n",
      "380. feature 269 (0.000240)\n",
      "381. feature 26 (0.000224)\n",
      "382. feature 108 (0.000218)\n",
      "383. feature 76 (0.000218)\n",
      "384. feature 41 (0.000215)\n",
      "385. feature 22 (0.000194)\n",
      "386. feature 103 (0.000189)\n",
      "387. feature 375 (0.000170)\n",
      "388. feature 69 (0.000154)\n",
      "389. feature 164 (0.000146)\n",
      "390. feature 208 (0.000142)\n",
      "391. feature 282 (0.000106)\n",
      "392. feature 100 (0.000105)\n",
      "393. feature 312 (0.000093)\n",
      "394. feature 360 (0.000090)\n",
      "395. feature 374 (0.000086)\n",
      "396. feature 293 (0.000074)\n",
      "397. feature 350 (0.000061)\n",
      "398. feature 52 (0.000059)\n",
      "399. feature 354 (0.000055)\n",
      "400. feature 181 (0.000052)\n"
     ]
    },
    {
     "data": {
      "image/png": "[encoded data removed]",
      "text/plain": [
       "<matplotlib.figure.Figure at 0x7f012c253290>"
      ]
     },
     "metadata": {},
     "output_type": "display_data"
    }
   ],
   "source": [
    "forest = frst\n",
    "importances = forest.feature_importances_\n",
    "std = np.std([tree.feature_importances_ for tree in forest.estimators_],\n",
    "             axis=0)\n",
    "indices = np.argsort(importances)[::-1]\n",
    "\n",
    "# Print the feature ranking\n",
    "print(\"Feature ranking:\")\n",
    "\n",
    "for f in range(X.shape[1]):\n",
    "    print(\"%d. feature %d (%f)\" % (f + 1, indices[f], importances[indices[f]]))\n",
    "\n",
    "# Plot the feature importances of the forest\n",
    "plt.figure()\n",
    "plt.title(\"Feature importances\")\n",
    "plt.bar(range(X.shape[1]), importances[indices],\n",
    "       color=\"r\", yerr=std[indices], align=\"center\")\n",
    "plt.xticks(range(X.shape[1]), indices)\n",
    "plt.xlim([-1, X.shape[1]])\n",
    "plt.show()"
   ]
  },
  {
   "cell_type": "markdown",
   "metadata": {},
   "source": [
    "### SVM RBF"
   ]
  },
  {
   "cell_type": "code",
   "execution_count": 77,
   "metadata": {
    "collapsed": true
   },
   "outputs": [],
   "source": [
    "clf = svm.NuSVC(kernel=\"rbf\",class_weight='balanced',nu=0.6,degree=4)"
   ]
  },
  {
   "cell_type": "code",
   "execution_count": 78,
   "metadata": {
    "collapsed": false
   },
   "outputs": [
    {
     "name": "stdout",
     "output_type": "stream",
     "text": [
      "             precision    recall  f1-score   support\n",
      "\n",
      "          0       1.00      1.00      1.00        21\n",
      "          1       1.00      0.95      0.97        20\n",
      "          2       1.00      1.00      1.00        17\n",
      "          3       0.95      0.88      0.91        24\n",
      "          4       1.00      1.00      1.00        26\n",
      "          5       1.00      1.00      1.00        25\n",
      "          6       1.00      1.00      1.00        19\n",
      "          7       1.00      1.00      1.00        19\n",
      "          8       0.88      1.00      0.93        21\n",
      "          9       0.95      0.95      0.95        20\n",
      "\n",
      "avg / total       0.98      0.98      0.98       212\n",
      "\n",
      "5 Fold CrossValidation Score \n",
      "\n",
      "[ 0.99074074  0.98591549  0.98584906  0.95192308  0.99033816]\n",
      "Mean 0.980953306295\n"
     ]
    }
   ],
   "source": [
    "clf.fit(X_train, y_train)\n",
    "\n",
    "#Perform classification on train test split\n",
    "y_pred = clf.predict(X_test)\n",
    "print metrics.classification_report(y_test, y_pred)\n",
    "\n",
    "#Perform 5 fold crossval                                           \n",
    "scores = cross_validation.cross_val_score(clf, train_data[0], train_data[1], cv=5)  \n",
    "print '5 Fold CrossValidation Score \\n'\n",
    "print scores\n",
    "print 'Mean', scores.mean()"
   ]
  },
  {
   "cell_type": "code",
   "execution_count": null,
   "metadata": {
    "collapsed": true
   },
   "outputs": [],
   "source": []
  },
  {
   "cell_type": "code",
   "execution_count": null,
   "metadata": {
    "collapsed": true
   },
   "outputs": [],
   "source": []
  },
  {
   "cell_type": "code",
   "execution_count": null,
   "metadata": {
    "collapsed": true
   },
   "outputs": [],
   "source": []
  },
  {
   "cell_type": "code",
   "execution_count": null,
   "metadata": {
    "collapsed": true
   },
   "outputs": [],
   "source": []
  },
  {
   "cell_type": "code",
   "execution_count": null,
   "metadata": {
    "collapsed": true
   },
   "outputs": [],
   "source": []
  },
  {
   "cell_type": "code",
   "execution_count": null,
   "metadata": {
    "collapsed": true
   },
   "outputs": [],
   "source": []
  },
  {
   "cell_type": "code",
   "execution_count": null,
   "metadata": {
    "collapsed": true
   },
   "outputs": [],
   "source": []
  },
  {
   "cell_type": "code",
   "execution_count": null,
   "metadata": {
    "collapsed": true
   },
   "outputs": [],
   "source": []
  },
  {
   "cell_type": "code",
   "execution_count": null,
   "metadata": {
    "collapsed": true
   },
   "outputs": [],
   "source": []
  },
  {
   "cell_type": "code",
   "execution_count": null,
   "metadata": {
    "collapsed": true
   },
   "outputs": [],
   "source": []
  },
  {
   "cell_type": "code",
   "execution_count": null,
   "metadata": {
    "collapsed": true
   },
   "outputs": [],
   "source": []
  },
  {
   "cell_type": "code",
   "execution_count": null,
   "metadata": {
    "collapsed": true
   },
   "outputs": [],
   "source": []
  },
  {
   "cell_type": "code",
   "execution_count": null,
   "metadata": {
    "collapsed": true
   },
   "outputs": [],
   "source": []
  },
  {
   "cell_type": "markdown",
   "metadata": {},
   "source": [
    "### Detect Outliers\n",
    "Inliers are labeled 1, while outliers are labeled -1"
   ]
  },
  {
   "cell_type": "code",
   "execution_count": 35,
   "metadata": {
    "collapsed": true
   },
   "outputs": [],
   "source": [
    "import numpy as np\n",
    "import matplotlib.pyplot as plt\n",
    "import matplotlib.font_manager\n",
    "from sklearn import svm"
   ]
  },
  {
   "cell_type": "code",
   "execution_count": 36,
   "metadata": {
    "collapsed": true
   },
   "outputs": [],
   "source": [
    "# fit the model\n",
    "clf = svm.OneClassSVM(nu=0.1, kernel=\"rbf\", gamma=0.1)\n",
    "clf.fit(X_train)\n",
    "y_pred_train = clf.predict(X_train)\n",
    "y_pred_test = clf.predict(X_test)"
   ]
  },
  {
   "cell_type": "code",
   "execution_count": 28,
   "metadata": {
    "collapsed": false
   },
   "outputs": [
    {
     "ename": "NameError",
     "evalue": "name 'X_outliers' is not defined",
     "output_type": "error",
     "traceback": [
      "\u001b[1;31m\u001b[0m",
      "\u001b[1;31mNameError\u001b[0mTraceback (most recent call last)",
      "\u001b[1;32m<ipython-input-28-bc31ad2a7ad4>\u001b[0m in \u001b[0;36m<module>\u001b[1;34m()\u001b[0m\n\u001b[1;32m----> 1\u001b[1;33m \u001b[0my_pred_outliers\u001b[0m \u001b[1;33m=\u001b[0m \u001b[0mclf\u001b[0m\u001b[1;33m.\u001b[0m\u001b[0mpredict\u001b[0m\u001b[1;33m(\u001b[0m\u001b[0mX_outliers\u001b[0m\u001b[1;33m)\u001b[0m\u001b[1;33m\u001b[0m\u001b[0m\n\u001b[0m",
      "\u001b[1;31mNameError\u001b[0m: name 'X_outliers' is not defined"
     ]
    }
   ],
   "source": [
    "y_pred_outliers = clf.predict(X_outliers)"
   ]
  },
  {
   "cell_type": "code",
   "execution_count": 29,
   "metadata": {
    "collapsed": false
   },
   "outputs": [
    {
     "name": "stdout",
     "output_type": "stream",
     "text": [
      "Counter({1.0: 291, -1.0: 31})\n",
      "Counter({1.0: 675, -1.0: 75})\n"
     ]
    }
   ],
   "source": [
    "from collections import Counter                                             \n",
    "t = Counter(y_pred_test)   \n",
    "tr = Counter(y_pred_train)  \n",
    "print t\n",
    "print tr"
   ]
  },
  {
   "cell_type": "code",
   "execution_count": 30,
   "metadata": {
    "collapsed": false
   },
   "outputs": [
    {
     "name": "stdout",
     "output_type": "stream",
     "text": [
      "90.3726708075\n",
      "90.0\n"
     ]
    }
   ],
   "source": [
    "print float(t[1]) / sum(t.values())*100\n",
    "print float(tr[1]) / sum(tr.values())*100"
   ]
  },
  {
   "cell_type": "code",
   "execution_count": 31,
   "metadata": {
    "collapsed": true
   },
   "outputs": [],
   "source": [
    "test_d = c.getTestData()"
   ]
  },
  {
   "cell_type": "code",
   "execution_count": 32,
   "metadata": {
    "collapsed": false
   },
   "outputs": [],
   "source": [
    "y_pred_test = clf.predict(test_d[0])"
   ]
  },
  {
   "cell_type": "code",
   "execution_count": 33,
   "metadata": {
    "collapsed": false
   },
   "outputs": [
    {
     "name": "stdout",
     "output_type": "stream",
     "text": [
      "72.0\n"
     ]
    }
   ],
   "source": [
    "t = Counter(y_pred_test)  \n",
    "print float(t[1]) / sum(t.values())*100\n"
   ]
  },
  {
   "cell_type": "code",
   "execution_count": 38,
   "metadata": {
    "collapsed": false
   },
   "outputs": [
    {
     "name": "stdout",
     "output_type": "stream",
     "text": [
      "started extracting feautes\n",
      "done extracting features\n",
      "[-1.  1.  1.  1.  1.]\n"
     ]
    }
   ],
   "source": [
    "outlier = c.getOutlierData()\n",
    "o = clf.predict(outlier)\n",
    "print o"
   ]
  },
  {
   "cell_type": "code",
   "execution_count": 40,
   "metadata": {
    "collapsed": true
   },
   "outputs": [],
   "source": [
    "o = Counter(o)"
   ]
  },
  {
   "cell_type": "code",
   "execution_count": 41,
   "metadata": {
    "collapsed": false
   },
   "outputs": [
    {
     "name": "stdout",
     "output_type": "stream",
     "text": [
      "20.0\n"
     ]
    }
   ],
   "source": [
    "print float(o[-1]) / sum(o.values())*100"
   ]
  },
  {
   "cell_type": "code",
   "execution_count": 47,
   "metadata": {
    "collapsed": false
   },
   "outputs": [
    {
     "name": "stdout",
     "output_type": "stream",
     "text": [
      "started extracting feautes\n",
      "done extracting features\n"
     ]
    }
   ],
   "source": [
    "X_outliers = c.getOutlierData()\n",
    "\n",
    "# fit the model\n",
    "clf = svm.OneClassSVM(nu=0.1, kernel=\"rbf\", gamma=0.1)\n",
    "clf.fit(X_train)\n",
    "y_pred_train = clf.predict(X_train)\n",
    "y_pred_test = clf.predict(X_test)\n",
    "y_pred_outliers = clf.predict(X_outliers)\n",
    "n_error_train = y_pred_train[y_pred_train == -1].size\n",
    "n_error_test = y_pred_test[y_pred_test == -1].size\n",
    "n_error_outliers = y_pred_outliers[y_pred_outliers == 1].size\n",
    "\n"
   ]
  }
 ],
 "metadata": {
  "kernelspec": {
   "display_name": "Python 2",
   "language": "python",
   "name": "python2"
  },
  "language_info": {
   "codemirror_mode": {
    "name": "ipython",
    "version": 2
   },
   "file_extension": ".py",
   "mimetype": "text/x-python",
   "name": "python",
   "nbconvert_exporter": "python",
   "pygments_lexer": "ipython2",
   "version": "2.7.12"
  }
 },
 "nbformat": 4,
 "nbformat_minor": 0
}
